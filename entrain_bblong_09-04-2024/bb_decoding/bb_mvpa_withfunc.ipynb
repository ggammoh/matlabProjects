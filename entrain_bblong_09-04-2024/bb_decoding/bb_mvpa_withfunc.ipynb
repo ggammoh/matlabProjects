{
 "cells": [
  {
   "cell_type": "markdown",
   "metadata": {},
   "source": [
    "### BB pilot data classification analysis\n",
    "- Stimulus is 3 min of rest, 7, 8, 9, 10, 11, 12 Hz \n",
    "- 4 different adult controls, one invalid session\n",
    "- Early version of the BCI paradigm\n",
    "    - Using this data because it's been preprocessed by Grace\n",
    "- Rationale for this analysis\n",
    "    - Possible differences in power but unsure how to analyze\n",
    "    - Trying classification to establish if a difference exists at all \n",
    "    - Narrow down specific frequencies and channels for future analyses "
   ]
  },
  {
   "cell_type": "code",
   "execution_count": 71,
   "metadata": {},
   "outputs": [],
   "source": [
    "# load libraries \n",
    "import numpy as np\n",
    "import pandas as pd\n",
    "import mne \n",
    "import matplotlib.pyplot as plt\n",
    "import os\n",
    "\n",
    "import copy\n",
    "import glob\n",
    "\n",
    "# libraries for time frequency analysis\n",
    "import scipy.signal as signal \n",
    "\n",
    "# libraries for classification analysis\n",
    "from sklearn.pipeline import make_pipeline\n",
    "from sklearn.preprocessing import StandardScaler\n",
    "\n",
    "from sklearn.svm import SVC\n",
    "from sklearn.model_selection import StratifiedKFold, cross_val_score\n",
    "from sklearn.preprocessing import LabelEncoder\n",
    "\n",
    "\n",
    "\n",
    "from sklearn.model_selection import train_test_split\n",
    "from sklearn.svm import SVC  # Support Vector Classifier\n",
    "from sklearn.metrics import accuracy_score"
   ]
  },
  {
   "cell_type": "markdown",
   "metadata": {},
   "source": [
    "### Load EEG data\n",
    "- 4 pilot recordings using 3 min version of BB\n",
    "    - One recording not valid\n",
    "- No gap between stimuli \n",
    "- Picking one recording at a time"
   ]
  },
  {
   "cell_type": "code",
   "execution_count": 79,
   "metadata": {},
   "outputs": [
    {
     "data": {
      "text/html": [
       "<div>\n",
       "<style scoped>\n",
       "    .dataframe tbody tr th:only-of-type {\n",
       "        vertical-align: middle;\n",
       "    }\n",
       "\n",
       "    .dataframe tbody tr th {\n",
       "        vertical-align: top;\n",
       "    }\n",
       "\n",
       "    .dataframe thead th {\n",
       "        text-align: right;\n",
       "    }\n",
       "</style>\n",
       "<table border=\"1\" class=\"dataframe\">\n",
       "  <thead>\n",
       "    <tr style=\"text-align: right;\">\n",
       "      <th></th>\n",
       "      <th>eegid</th>\n",
       "      <th>group</th>\n",
       "      <th>file_path</th>\n",
       "    </tr>\n",
       "  </thead>\n",
       "  <tbody>\n",
       "    <tr>\n",
       "      <th>0</th>\n",
       "      <td>336</td>\n",
       "      <td>unknown</td>\n",
       "      <td>/srv/Analysis/Sri_Projects/entrain_bblong_09-0...</td>\n",
       "    </tr>\n",
       "    <tr>\n",
       "      <th>1</th>\n",
       "      <td>388</td>\n",
       "      <td>unknown</td>\n",
       "      <td>/srv/Analysis/Sri_Projects/entrain_bblong_09-0...</td>\n",
       "    </tr>\n",
       "    <tr>\n",
       "      <th>2</th>\n",
       "      <td>836</td>\n",
       "      <td>unknown</td>\n",
       "      <td>/srv/Analysis/Sri_Projects/entrain_bblong_09-0...</td>\n",
       "    </tr>\n",
       "    <tr>\n",
       "      <th>3</th>\n",
       "      <td>1498</td>\n",
       "      <td>unknown</td>\n",
       "      <td>/srv/Analysis/Sri_Projects/entrain_bblong_09-0...</td>\n",
       "    </tr>\n",
       "    <tr>\n",
       "      <th>4</th>\n",
       "      <td>1646</td>\n",
       "      <td>unknown</td>\n",
       "      <td>/srv/Analysis/Sri_Projects/entrain_bblong_09-0...</td>\n",
       "    </tr>\n",
       "    <tr>\n",
       "      <th>5</th>\n",
       "      <td>1655</td>\n",
       "      <td>unknown</td>\n",
       "      <td>/srv/Analysis/Sri_Projects/entrain_bblong_09-0...</td>\n",
       "    </tr>\n",
       "    <tr>\n",
       "      <th>6</th>\n",
       "      <td>1969</td>\n",
       "      <td>unknown</td>\n",
       "      <td>/srv/Analysis/Sri_Projects/entrain_bblong_09-0...</td>\n",
       "    </tr>\n",
       "    <tr>\n",
       "      <th>7</th>\n",
       "      <td>2481</td>\n",
       "      <td>unknown</td>\n",
       "      <td>/srv/Analysis/Sri_Projects/entrain_bblong_09-0...</td>\n",
       "    </tr>\n",
       "    <tr>\n",
       "      <th>8</th>\n",
       "      <td>2560</td>\n",
       "      <td>unknown</td>\n",
       "      <td>/srv/Analysis/Sri_Projects/entrain_bblong_09-0...</td>\n",
       "    </tr>\n",
       "    <tr>\n",
       "      <th>9</th>\n",
       "      <td>2808</td>\n",
       "      <td>unknown</td>\n",
       "      <td>/srv/Analysis/Sri_Projects/entrain_bblong_09-0...</td>\n",
       "    </tr>\n",
       "    <tr>\n",
       "      <th>10</th>\n",
       "      <td>2818</td>\n",
       "      <td>unknown</td>\n",
       "      <td>/srv/Analysis/Sri_Projects/entrain_bblong_09-0...</td>\n",
       "    </tr>\n",
       "    <tr>\n",
       "      <th>11</th>\n",
       "      <td>2920</td>\n",
       "      <td>unknown</td>\n",
       "      <td>/srv/Analysis/Sri_Projects/entrain_bblong_09-0...</td>\n",
       "    </tr>\n",
       "    <tr>\n",
       "      <th>12</th>\n",
       "      <td>2978</td>\n",
       "      <td>unknown</td>\n",
       "      <td>/srv/Analysis/Sri_Projects/entrain_bblong_09-0...</td>\n",
       "    </tr>\n",
       "    <tr>\n",
       "      <th>14</th>\n",
       "      <td>3416</td>\n",
       "      <td>unknown</td>\n",
       "      <td>/srv/Analysis/Sri_Projects/entrain_bblong_09-0...</td>\n",
       "    </tr>\n",
       "  </tbody>\n",
       "</table>\n",
       "</div>"
      ],
      "text/plain": [
       "    eegid    group                                          file_path\n",
       "0     336  unknown  /srv/Analysis/Sri_Projects/entrain_bblong_09-0...\n",
       "1     388  unknown  /srv/Analysis/Sri_Projects/entrain_bblong_09-0...\n",
       "2     836  unknown  /srv/Analysis/Sri_Projects/entrain_bblong_09-0...\n",
       "3    1498  unknown  /srv/Analysis/Sri_Projects/entrain_bblong_09-0...\n",
       "4    1646  unknown  /srv/Analysis/Sri_Projects/entrain_bblong_09-0...\n",
       "5    1655  unknown  /srv/Analysis/Sri_Projects/entrain_bblong_09-0...\n",
       "6    1969  unknown  /srv/Analysis/Sri_Projects/entrain_bblong_09-0...\n",
       "7    2481  unknown  /srv/Analysis/Sri_Projects/entrain_bblong_09-0...\n",
       "8    2560  unknown  /srv/Analysis/Sri_Projects/entrain_bblong_09-0...\n",
       "9    2808  unknown  /srv/Analysis/Sri_Projects/entrain_bblong_09-0...\n",
       "10   2818  unknown  /srv/Analysis/Sri_Projects/entrain_bblong_09-0...\n",
       "11   2920  unknown  /srv/Analysis/Sri_Projects/entrain_bblong_09-0...\n",
       "12   2978  unknown  /srv/Analysis/Sri_Projects/entrain_bblong_09-0...\n",
       "14   3416  unknown  /srv/Analysis/Sri_Projects/entrain_bblong_09-0..."
      ]
     },
     "execution_count": 79,
     "metadata": {},
     "output_type": "execute_result"
    }
   ],
   "source": [
    "# set wd\n",
    "working_dir = '/srv/Analysis/Sri_Projects/entrain_bblong_09-04-2024/bb_fooof/'\n",
    "#data_dir = '/srv/Analysis/Sri_Projects/entrain_bblong_09-04-2024/Preprocessed_files/big_epochs/'\n",
    "data_dir_old = '/srv/Analysis/Sri_Projects/entrain_bblong_09-04-2024/Preprocessed_files/old_BBLong_odd_only/'\n",
    "os.chdir(working_dir)\n",
    "\n",
    "# get deid log\n",
    "deid_log = pd.read_csv(\"./bblong_old_group_list.csv\")\n",
    "deid_log.columns = [\"eegid\",\"group\"]\n",
    "deid_log[\"eegid\"] = deid_log[\"eegid\"].astype(int)\n",
    "\n",
    "\n",
    "# get list of files \n",
    "file_list = glob.glob(data_dir_old + '*.set')\n",
    "file_list.sort()\n",
    "\n",
    "# join file list with group list to get final file list \n",
    "df_tmp = pd.DataFrame(file_list, columns = ['file_path'])\n",
    "df_tmp['eegid'] = [os.path.basename(path)[0:4] for path in df_tmp['file_path']]\n",
    "df_tmp['eegid'] = df_tmp['eegid'].astype(int)\n",
    "df_filelist = deid_log.merge(df_tmp, on='eegid', how='left')\n",
    "\n",
    "df_filelist = df_filelist.dropna()\n",
    "df_filelist\n"
   ]
  },
  {
   "cell_type": "markdown",
   "metadata": {},
   "source": [
    "# Outline\n",
    "- Pool epoch data from all subjects\n",
    "- Group into stimulus frequencies\n",
    "- subject * channel * epoch * time  \n",
    "\n",
    "- stim_type * channel * time * freq * epochs \n",
    "- 9 stimuli * 128 chan * 250 ms * 20 Hz * 30 epochs"
   ]
  },
  {
   "cell_type": "code",
   "execution_count": 80,
   "metadata": {},
   "outputs": [],
   "source": [
    "\n",
    "def subdivide_epochs_bblong(original_epochs, duration=2):\n",
    "    \"\"\"Subdivide epoched EEG data into smaller epochs, maintaining parent event type\"\"\"\n",
    "\n",
    "    # list of epochs to concat later    \n",
    "    epochs_list_to_concat_later = []\n",
    "\n",
    "    # get event information \n",
    "    event_id = cur_eeg.event_id\n",
    "\n",
    "    # loop through existing epochs\n",
    "    for cur_event_name, cur_event_int in event_id.items():\n",
    "        \n",
    "        # create raw object from current epoch\n",
    "        cur_epoch = original_epochs[cur_event_name]\n",
    "        \n",
    "        #Reshape so that the data becomes 2 dimensional\n",
    "        cur_dat = cur_epoch.get_data().reshape(original_epochs.info['nchan'], -1)\n",
    "        \n",
    "        cur_info = cur_epoch.info     \n",
    "        cur_converted_raw =  mne.io.RawArray(cur_dat, cur_info, verbose='ERROR')\n",
    "        \n",
    "        # create new epochs\n",
    "        new_epochs = mne.make_fixed_length_epochs(\n",
    "            cur_converted_raw,\n",
    "            duration=duration,\n",
    "            preload=True,\n",
    "            id = cur_event_int,\n",
    "            verbose='ERROR'\n",
    "        )  \n",
    "        \n",
    "        # fix/set event_id dictionary so it matches original \n",
    "        new_epochs.event_id = event_id\n",
    "        \n",
    "        # add current epochs to running list\n",
    "        epochs_list_to_concat_later.append(new_epochs)\n",
    "        \n",
    "    final_epochs = mne.concatenate_epochs(epochs_list_to_concat_later, verbose='ERROR')\n",
    "    \n",
    "    return final_epochs\n",
    "\n"
   ]
  },
  {
   "cell_type": "code",
   "execution_count": 81,
   "metadata": {},
   "outputs": [
    {
     "name": "stderr",
     "output_type": "stream",
     "text": [
      "/opt/anaconda3/envs/entrain_analysis_env/lib/python3.12/site-packages/pymatreader/utils.py:291: UserWarning: Complex objects (like classes) are not supported. They are imported on a best effort base but your mileage will vary.\n",
      "  warn(\n"
     ]
    },
    {
     "name": "stdout",
     "output_type": "stream",
     "text": [
      "0\n",
      "eegid                                                      336\n",
      "group                                                  unknown\n",
      "file_path    /srv/Analysis/Sri_Projects/entrain_bblong_09-0...\n",
      "Name: 0, dtype: object\n",
      "/srv/Analysis/Sri_Projects/entrain_bblong_09-04-2024/Preprocessed_files/old_BBLong_odd_only/0336_BBLong_preprocessed.set\n"
     ]
    },
    {
     "name": "stderr",
     "output_type": "stream",
     "text": [
      "/opt/anaconda3/envs/entrain_analysis_env/lib/python3.12/site-packages/pymatreader/utils.py:291: UserWarning: Complex objects (like classes) are not supported. They are imported on a best effort base but your mileage will vary.\n",
      "  warn(\n"
     ]
    },
    {
     "name": "stdout",
     "output_type": "stream",
     "text": [
      "1\n",
      "eegid                                                      388\n",
      "group                                                  unknown\n",
      "file_path    /srv/Analysis/Sri_Projects/entrain_bblong_09-0...\n",
      "Name: 1, dtype: object\n",
      "/srv/Analysis/Sri_Projects/entrain_bblong_09-04-2024/Preprocessed_files/old_BBLong_odd_only/0388_BBLong_preprocessed.set\n"
     ]
    },
    {
     "name": "stderr",
     "output_type": "stream",
     "text": [
      "/opt/anaconda3/envs/entrain_analysis_env/lib/python3.12/site-packages/pymatreader/utils.py:291: UserWarning: Complex objects (like classes) are not supported. They are imported on a best effort base but your mileage will vary.\n",
      "  warn(\n"
     ]
    },
    {
     "name": "stdout",
     "output_type": "stream",
     "text": [
      "2\n",
      "eegid                                                      836\n",
      "group                                                  unknown\n",
      "file_path    /srv/Analysis/Sri_Projects/entrain_bblong_09-0...\n",
      "Name: 2, dtype: object\n",
      "/srv/Analysis/Sri_Projects/entrain_bblong_09-04-2024/Preprocessed_files/old_BBLong_odd_only/0836_BBLong_preprocessed.set\n"
     ]
    },
    {
     "name": "stderr",
     "output_type": "stream",
     "text": [
      "/opt/anaconda3/envs/entrain_analysis_env/lib/python3.12/site-packages/pymatreader/utils.py:291: UserWarning: Complex objects (like classes) are not supported. They are imported on a best effort base but your mileage will vary.\n",
      "  warn(\n"
     ]
    },
    {
     "name": "stdout",
     "output_type": "stream",
     "text": [
      "3\n",
      "eegid                                                     1498\n",
      "group                                                  unknown\n",
      "file_path    /srv/Analysis/Sri_Projects/entrain_bblong_09-0...\n",
      "Name: 3, dtype: object\n",
      "/srv/Analysis/Sri_Projects/entrain_bblong_09-04-2024/Preprocessed_files/old_BBLong_odd_only/1498_BBLong_preprocessed.set\n"
     ]
    },
    {
     "name": "stderr",
     "output_type": "stream",
     "text": [
      "/opt/anaconda3/envs/entrain_analysis_env/lib/python3.12/site-packages/pymatreader/utils.py:291: UserWarning: Complex objects (like classes) are not supported. They are imported on a best effort base but your mileage will vary.\n",
      "  warn(\n"
     ]
    },
    {
     "name": "stdout",
     "output_type": "stream",
     "text": [
      "4\n",
      "eegid                                                     1646\n",
      "group                                                  unknown\n",
      "file_path    /srv/Analysis/Sri_Projects/entrain_bblong_09-0...\n",
      "Name: 4, dtype: object\n",
      "/srv/Analysis/Sri_Projects/entrain_bblong_09-04-2024/Preprocessed_files/old_BBLong_odd_only/1646_BBLong_preprocessed.set\n"
     ]
    },
    {
     "name": "stderr",
     "output_type": "stream",
     "text": [
      "/opt/anaconda3/envs/entrain_analysis_env/lib/python3.12/site-packages/pymatreader/utils.py:291: UserWarning: Complex objects (like classes) are not supported. They are imported on a best effort base but your mileage will vary.\n",
      "  warn(\n"
     ]
    },
    {
     "name": "stdout",
     "output_type": "stream",
     "text": [
      "5\n",
      "eegid                                                     1655\n",
      "group                                                  unknown\n",
      "file_path    /srv/Analysis/Sri_Projects/entrain_bblong_09-0...\n",
      "Name: 5, dtype: object\n",
      "/srv/Analysis/Sri_Projects/entrain_bblong_09-04-2024/Preprocessed_files/old_BBLong_odd_only/1655_BBLong_preprocessed.set\n"
     ]
    },
    {
     "name": "stderr",
     "output_type": "stream",
     "text": [
      "/opt/anaconda3/envs/entrain_analysis_env/lib/python3.12/site-packages/pymatreader/utils.py:291: UserWarning: Complex objects (like classes) are not supported. They are imported on a best effort base but your mileage will vary.\n",
      "  warn(\n"
     ]
    },
    {
     "name": "stdout",
     "output_type": "stream",
     "text": [
      "6\n",
      "eegid                                                     1969\n",
      "group                                                  unknown\n",
      "file_path    /srv/Analysis/Sri_Projects/entrain_bblong_09-0...\n",
      "Name: 6, dtype: object\n",
      "/srv/Analysis/Sri_Projects/entrain_bblong_09-04-2024/Preprocessed_files/old_BBLong_odd_only/1969_BBLong_preprocessed.set\n"
     ]
    },
    {
     "name": "stderr",
     "output_type": "stream",
     "text": [
      "/opt/anaconda3/envs/entrain_analysis_env/lib/python3.12/site-packages/pymatreader/utils.py:291: UserWarning: Complex objects (like classes) are not supported. They are imported on a best effort base but your mileage will vary.\n",
      "  warn(\n"
     ]
    },
    {
     "name": "stdout",
     "output_type": "stream",
     "text": [
      "7\n",
      "eegid                                                     2481\n",
      "group                                                  unknown\n",
      "file_path    /srv/Analysis/Sri_Projects/entrain_bblong_09-0...\n",
      "Name: 7, dtype: object\n",
      "/srv/Analysis/Sri_Projects/entrain_bblong_09-04-2024/Preprocessed_files/old_BBLong_odd_only/2481_BBLong_preprocessed.set\n"
     ]
    },
    {
     "name": "stderr",
     "output_type": "stream",
     "text": [
      "/opt/anaconda3/envs/entrain_analysis_env/lib/python3.12/site-packages/pymatreader/utils.py:291: UserWarning: Complex objects (like classes) are not supported. They are imported on a best effort base but your mileage will vary.\n",
      "  warn(\n"
     ]
    },
    {
     "name": "stdout",
     "output_type": "stream",
     "text": [
      "8\n",
      "eegid                                                     2560\n",
      "group                                                  unknown\n",
      "file_path    /srv/Analysis/Sri_Projects/entrain_bblong_09-0...\n",
      "Name: 8, dtype: object\n",
      "/srv/Analysis/Sri_Projects/entrain_bblong_09-04-2024/Preprocessed_files/old_BBLong_odd_only/2560_BBLong_preprocessed.set\n"
     ]
    },
    {
     "name": "stderr",
     "output_type": "stream",
     "text": [
      "/opt/anaconda3/envs/entrain_analysis_env/lib/python3.12/site-packages/pymatreader/utils.py:291: UserWarning: Complex objects (like classes) are not supported. They are imported on a best effort base but your mileage will vary.\n",
      "  warn(\n"
     ]
    },
    {
     "name": "stdout",
     "output_type": "stream",
     "text": [
      "9\n",
      "eegid                                                     2808\n",
      "group                                                  unknown\n",
      "file_path    /srv/Analysis/Sri_Projects/entrain_bblong_09-0...\n",
      "Name: 9, dtype: object\n",
      "/srv/Analysis/Sri_Projects/entrain_bblong_09-04-2024/Preprocessed_files/old_BBLong_odd_only/2808_BBLong_preprocessed.set\n"
     ]
    },
    {
     "name": "stderr",
     "output_type": "stream",
     "text": [
      "/opt/anaconda3/envs/entrain_analysis_env/lib/python3.12/site-packages/pymatreader/utils.py:291: UserWarning: Complex objects (like classes) are not supported. They are imported on a best effort base but your mileage will vary.\n",
      "  warn(\n"
     ]
    },
    {
     "name": "stdout",
     "output_type": "stream",
     "text": [
      "10\n",
      "eegid                                                     2818\n",
      "group                                                  unknown\n",
      "file_path    /srv/Analysis/Sri_Projects/entrain_bblong_09-0...\n",
      "Name: 10, dtype: object\n",
      "/srv/Analysis/Sri_Projects/entrain_bblong_09-04-2024/Preprocessed_files/old_BBLong_odd_only/2818_BBLong_preprocessed.set\n"
     ]
    },
    {
     "name": "stderr",
     "output_type": "stream",
     "text": [
      "/opt/anaconda3/envs/entrain_analysis_env/lib/python3.12/site-packages/pymatreader/utils.py:291: UserWarning: Complex objects (like classes) are not supported. They are imported on a best effort base but your mileage will vary.\n",
      "  warn(\n"
     ]
    },
    {
     "name": "stdout",
     "output_type": "stream",
     "text": [
      "11\n",
      "eegid                                                     2920\n",
      "group                                                  unknown\n",
      "file_path    /srv/Analysis/Sri_Projects/entrain_bblong_09-0...\n",
      "Name: 11, dtype: object\n",
      "/srv/Analysis/Sri_Projects/entrain_bblong_09-04-2024/Preprocessed_files/old_BBLong_odd_only/2920_BBLong_preprocessed.set\n"
     ]
    },
    {
     "name": "stderr",
     "output_type": "stream",
     "text": [
      "/opt/anaconda3/envs/entrain_analysis_env/lib/python3.12/site-packages/pymatreader/utils.py:291: UserWarning: Complex objects (like classes) are not supported. They are imported on a best effort base but your mileage will vary.\n",
      "  warn(\n"
     ]
    },
    {
     "name": "stdout",
     "output_type": "stream",
     "text": [
      "12\n",
      "eegid                                                     2978\n",
      "group                                                  unknown\n",
      "file_path    /srv/Analysis/Sri_Projects/entrain_bblong_09-0...\n",
      "Name: 12, dtype: object\n",
      "/srv/Analysis/Sri_Projects/entrain_bblong_09-04-2024/Preprocessed_files/old_BBLong_odd_only/2978_BBLong_preprocessed.set\n"
     ]
    },
    {
     "name": "stderr",
     "output_type": "stream",
     "text": [
      "/opt/anaconda3/envs/entrain_analysis_env/lib/python3.12/site-packages/pymatreader/utils.py:291: UserWarning: Complex objects (like classes) are not supported. They are imported on a best effort base but your mileage will vary.\n",
      "  warn(\n"
     ]
    },
    {
     "name": "stdout",
     "output_type": "stream",
     "text": [
      "14\n",
      "eegid                                                     3416\n",
      "group                                                  unknown\n",
      "file_path    /srv/Analysis/Sri_Projects/entrain_bblong_09-0...\n",
      "Name: 14, dtype: object\n",
      "/srv/Analysis/Sri_Projects/entrain_bblong_09-04-2024/Preprocessed_files/old_BBLong_odd_only/3416_BBLong_preprocessed.set\n"
     ]
    }
   ],
   "source": [
    "# list of sitmuli\n",
    "#stimulus_list = [\n",
    "    #'rest',\n",
    "    #'sham',\n",
    "    #'7_hz_stimulus',\n",
    "    #'8_hz_stimulus',\n",
    "    #'9_hz_stimulus',\n",
    "    #'10_hz_stimulus',\n",
    "    #'11_hz_stimulus',\n",
    "    #'12_hz_stimulus',\n",
    "    #'13_hz_stimulus',\n",
    "#]\n",
    "stimulus_list = [\n",
    "    'sham',\n",
    "    '7_hz_stimulus',\n",
    "    '9_hz_stimulus',\n",
    "    '11_hz_stimulus',\n",
    "    '13_hz_stimulus',\n",
    "]\n",
    "\n",
    "\n",
    "# initialize dict w/ stimulus types\n",
    "pow_dict = {x: [] for x in stimulus_list}\n",
    "\n",
    "# loop through eeg files \n",
    "for row_idx, row in df_filelist.iterrows():\n",
    "\n",
    "    # load EEG\n",
    "    cur_file = row['file_path']\n",
    "    cur_eeg = mne.io.read_epochs_eeglab(cur_file, verbose='ERROR')\n",
    "        \n",
    "    # resample \n",
    "    srate = 125\n",
    "    cur_eeg.resample(srate, verbose='ERROR')\n",
    " \n",
    "    # subdivide epochs into 2sec epochs \n",
    "    subdivided_epochs = subdivide_epochs_bblong(cur_eeg, duration=2)\n",
    "\n",
    "    # compute tfr\n",
    "    power = subdivided_epochs.compute_psd(\n",
    "        method='multitaper',\n",
    "        fmin=2,\n",
    "        fmax=30,\n",
    "        verbose='ERROR'\n",
    "    )\n",
    "    ch_names = power.ch_names\n",
    "    freqs = power.freqs\n",
    "    \n",
    "    \n",
    "    print(row_idx)\n",
    "    print(row)\n",
    "    print(cur_file)\n",
    "    \n",
    "    \n",
    "    # add tfr to corresponding key in dict\n",
    "    for cur_stim in stimulus_list:\n",
    "        pow_dict[cur_stim].append(power[cur_stim].data)\n",
    "        \n",
    "        \n",
    "\n",
    "# stack lists into arrays and reshape subjects across epochs\n",
    "pow_dict_pooled = {}\n",
    "for cur_stim in pow_dict:\n",
    "    \n",
    "    # stack arrays and pool epochs across all s5ubjects\n",
    "    # stacked_arr = np.stack(pow_dict[cur_stim])    \n",
    "    # pow_dict[cur_stim] = stacked_arr.reshape(-1, len(ch_names), len(freqs))\n",
    "    \n",
    "    \n",
    "    pow_dict_pooled[cur_stim] = np.concatenate(pow_dict[cur_stim], axis=0)\n",
    "\n",
    "    "
   ]
  },
  {
   "cell_type": "code",
   "execution_count": 82,
   "metadata": {},
   "outputs": [
    {
     "data": {
      "text/plain": [
       "{'rest': 1,\n",
       " 'sham': 2,\n",
       " '11_hz_stimulus': 3,\n",
       " '13_hz_stimulus': 4,\n",
       " '9_hz_stimulus/rest': 5,\n",
       " '7_hz_stimulus': 6}"
      ]
     },
     "execution_count": 82,
     "metadata": {},
     "output_type": "execute_result"
    }
   ],
   "source": [
    "power.event_id"
   ]
  },
  {
   "cell_type": "code",
   "execution_count": 83,
   "metadata": {},
   "outputs": [
    {
     "data": {
      "text/plain": [
       "dict_keys(['sham', '7_hz_stimulus', '9_hz_stimulus', '11_hz_stimulus', '13_hz_stimulus'])"
      ]
     },
     "execution_count": 83,
     "metadata": {},
     "output_type": "execute_result"
    }
   ],
   "source": [
    "pow_dict.keys()"
   ]
  },
  {
   "cell_type": "code",
   "execution_count": 85,
   "metadata": {},
   "outputs": [
    {
     "data": {
      "text/plain": [
       "(420, 128, 57)"
      ]
     },
     "execution_count": 85,
     "metadata": {},
     "output_type": "execute_result"
    }
   ],
   "source": [
    "pow_dict_pooled[\"sham\"].shape"
   ]
  },
  {
   "cell_type": "code",
   "execution_count": 84,
   "metadata": {},
   "outputs": [],
   "source": [
    "import numpy as np\n",
    "from sklearn.model_selection import StratifiedKFold\n",
    "from sklearn.svm import SVC\n",
    "from sklearn.metrics import accuracy_score\n",
    "from sklearn.utils import shuffle\n"
   ]
  },
  {
   "cell_type": "code",
   "execution_count": 88,
   "metadata": {},
   "outputs": [
    {
     "data": {
      "text/plain": [
       "[<matplotlib.lines.Line2D at 0x7f2d6e4b0bc0>]"
      ]
     },
     "execution_count": 88,
     "metadata": {},
     "output_type": "execute_result"
    },
    {
     "data": {
      "image/png": "[encoded data removed]",
      "text/plain": [
       "<Figure size 640x480 with 1 Axes>"
      ]
     },
     "metadata": {},
     "output_type": "display_data"
    }
   ],
   "source": [
    "\n",
    "# classify AT EACH FREQUENCY, CHANNELS ARE USED AS FEATURES\n",
    "def calc_crossval_score(\n",
    "    pow_dict_pooled, \n",
    "    feature_2_keep,\n",
    "    stim1,\n",
    "    stim2,\n",
    "     \n",
    "    n_splits = 5, \n",
    "    svm_kernel = 'rbf'\n",
    "):\n",
    "    \n",
    "    scores = []\n",
    "    scores_shuffled = []\n",
    "    \n",
    "    \n",
    "    # select stimuli to compare and combine epochs together\n",
    "    dat1 = pow_dict_pooled[stim1]\n",
    "    dat2 = pow_dict_pooled[stim2]\n",
    "    dat_all = np.concatenate((dat1, dat2), axis=0)  \n",
    "\n",
    "    # create labels\n",
    "    y = np.concatenate((np.zeros(dat1.shape[0]), np.ones(dat2.shape[0])))\n",
    "    \n",
    "    \n",
    "    \n",
    "    \n",
    "    \n",
    "    # cross validation scheme\n",
    "    cv = StratifiedKFold(n_splits = n_splits, shuffle=True, random_state=1)\n",
    "\n",
    "    # svm classifier\n",
    "    clf = make_pipeline(StandardScaler(), SVC(kernel = svm_kernel))\n",
    "    \n",
    "    \n",
    "    \n",
    "    if feature_2_keep == 'channel':\n",
    "        n_features = dat_all.shape[1]\n",
    "    elif feature_2_keep == 'frequency':\n",
    "        n_features = dat_all.shape[2]\n",
    "    else:\n",
    "        raise ValueError('feature_2_keep must be channel or frequency')\n",
    "        \n",
    "    for feature_idx in range(n_features):\n",
    "        \n",
    "\n",
    "        if feature_2_keep == 'channel':\n",
    "            X = dat_all[:, feature_idx, :].reshape(len(y), -1)\n",
    "        elif feature_2_keep == 'frequency':\n",
    "            X = dat_all[:, feature_idx].reshape(len(y), -1)\n",
    "    \n",
    "        y_shuf = np.random.permutation(y)\n",
    "\n",
    "        scores.append(\n",
    "            np.mean(cross_val_score(estimator=clf, X=X, y=y, scoring=\"roc_auc\", cv=cv))\n",
    "        )\n",
    "        scores_shuffled.append(\n",
    "            np.mean(cross_val_score(estimator=clf, X=X, y=y_shuf, scoring=\"roc_auc\", cv=cv))\n",
    "        )\n",
    "\n",
    "    \n",
    "    # return scores and 'null' shuffled scores\n",
    "    return (scores, scores_shuffled)\n",
    "\n",
    "\n",
    "scores, scores_shuffled = calc_crossval_score(\n",
    "    pow_dict_pooled = pow_dict_pooled, \n",
    "    feature_2_keep = 'frequency',\n",
    "    stim1 = \"sham\",\n",
    "    stim2 = \"11_hz_stimulus\",\n",
    "     \n",
    "    n_splits = 5, \n",
    "    svm_kernel = 'rbf'\n",
    ")\n",
    "\n",
    "plt.plot(scores, label=\"stimulus\")\n",
    "plt.plot(scores_shuffled, label=\"shuffled null\")"
   ]
  },
  {
   "cell_type": "code",
   "execution_count": null,
   "metadata": {},
   "outputs": [],
   "source": [
    "# Create a dummy info structure\n",
    "montage = mne.channels.make_standard_montage('GSN-HydroCel-128')\n",
    "info = mne.create_info(ch_names=montage.ch_names, sfreq=1000, ch_types='eeg')\n",
    "info.set_montage(montage, match_case = False)\n",
    "\n",
    "# Create an Evoked object with the data_array\n",
    "evoked = mne.EvokedArray(np.stack(np.array(scores), np.array(scores_shuffled), axis = 1), info)\n",
    "\n",
    "# plot topomap\n",
    "fig, ax = plt.subplots()\n",
    "img, _ = mne.viz.plot_topomap(\n",
    "    data = scores, \n",
    "    pos = info,\n",
    "    size = 4, \n",
    "    show = False,\n",
    "    vlim = (0, 1), \n",
    "    cmap = 'Spectral_r', \n",
    "    axes = ax\n",
    ")\n",
    "cbar = plt.colorbar(ax = ax, shrink = 0.75, orientation = 'vertical', mappable = img)\n",
    "\n",
    "plt.title('Classification score')"
   ]
  },
  {
   "cell_type": "code",
   "execution_count": null,
   "metadata": {},
   "outputs": [],
   "source": []
  },
  {
   "cell_type": "code",
   "execution_count": null,
   "metadata": {},
   "outputs": [],
   "source": [
    "len(pow_dict[stimulus])"
   ]
  },
  {
   "cell_type": "code",
   "execution_count": null,
   "metadata": {},
   "outputs": [],
   "source": [
    "\n",
    "# Assuming data_dict is your original dictionary of arrays\n",
    "stimuli_keys = np.array(list(pow_dict.keys()))  # List of stimuli keys\n",
    "reshaped_data = []  # To hold the reshaped arrays\n",
    "stimuli_key_list = []  # To hold the corresponding stimuli for each flattened entry\n",
    "\n",
    "for stimulus in stimuli_keys:\n",
    "    # Get the array for the current stimulus\n",
    "    arr = np.stack(pow_dict[stimulus])  # Shape (11, 30, 128, 57)\n",
    "    \n",
    "    # Reshape it to (11 * 30, 128 * 57) and append to reshaped_data\n",
    "    reshaped = arr.reshape(11 * 30, 128 * 57)  # Shape (330, 128 * 57)\n",
    "    reshaped_data.append(reshaped)\n",
    "    \n",
    "    # Create a list with the stimulus repeated for each of the 330 entries\n",
    "    stimuli_key_list.extend([stimulus] * (11 * 30))\n",
    "\n",
    "# Stack all reshaped arrays into one big array of shape (2970, 128 * 57)\n",
    "reshaped_data = np.vstack(reshaped_data)  # Shape (2970, 128 * 57)\n",
    "\n",
    "# stimuli_key_list will have length 2970, where each entry corresponds to a stimulus\n",
    "\n",
    "# Create a dictionary that assigns a unique integer to each unique string\n",
    "unique_dict = {value: idx + 1 for idx, value in enumerate(sorted(set(stimuli_key_list)))}\n",
    "\n",
    "# Replace strings in the original list with their corresponding integer values\n",
    "labels = [unique_dict[value] for value in stimuli_key_list]\n"
   ]
  },
  {
   "cell_type": "code",
   "execution_count": null,
   "metadata": {},
   "outputs": [],
   "source": [
    "\n",
    "# standardize\n",
    "tfr_standardized = StandardScaler().fit_transform(reshaped_data)\n",
    "\n",
    "\n",
    "# pca\n",
    "pca = PCA(n_components = 5)\n",
    "principleComponents = pca.fit_transform(tfr_standardized)\n",
    "\n",
    "\n",
    "# check % variance \n",
    "print(np.shape(principleComponents))\n",
    "print(pca.explained_variance_ratio_)\n",
    "\n",
    "\n",
    "\n",
    "# plot\n",
    "fig, ax = plt.subplots()\n",
    "\n",
    "plt.xlabel(\"PC1\") \n",
    "plt.ylabel(\"PC2\")\n",
    "\n",
    "scatter = plt.scatter(principleComponents[:,4], \n",
    "            principleComponents[:,3], \n",
    "            #c = stimuli_key_list, \n",
    "            c = labels,\n",
    "            cmap = 'turbo')\n",
    "legend = ax.legend(*scatter.legend_elements(), \n",
    "                   loc = \"upper right\")\n",
    "\n",
    "plt.title('averaged across channels + all frequencies')"
   ]
  },
  {
   "cell_type": "code",
   "execution_count": null,
   "metadata": {},
   "outputs": [],
   "source": []
  },
  {
   "cell_type": "code",
   "execution_count": null,
   "metadata": {},
   "outputs": [],
   "source": []
  },
  {
   "cell_type": "code",
   "execution_count": null,
   "metadata": {},
   "outputs": [],
   "source": []
  },
  {
   "cell_type": "code",
   "execution_count": null,
   "metadata": {},
   "outputs": [],
   "source": []
  },
  {
   "cell_type": "code",
   "execution_count": null,
   "metadata": {},
   "outputs": [],
   "source": [
    "# Create a dummy info structure\n",
    "montage = mne.channels.make_standard_montage('GSN-HydroCel-128')\n",
    "info = mne.create_info(ch_names=montage.ch_names, sfreq=1000, ch_types='eeg')\n",
    "info.set_montage(montage, match_case = False)\n",
    "\n",
    "# Create an Evoked object with the data_array\n",
    "evoked = mne.EvokedArray(scores, info)\n",
    "\n",
    "# plot topomap\n",
    "fig, ax = plt.subplots()\n",
    "img, _ = mne.viz.plot_topomap(\n",
    "    data = scores.flatten(), \n",
    "    pos = info,\n",
    "    size = 4, \n",
    "    show = False,\n",
    "    vlim = (0, 1), \n",
    "    cmap = 'Spectral_r', \n",
    "    axes = ax\n",
    ")\n",
    "cbar = plt.colorbar(ax = ax, shrink = 0.75, orientation = 'vertical', mappable = img)\n",
    "\n",
    "plt.title('Classification score, ' + str(stim1) + \" Hz vs \" + str(stim2))"
   ]
  },
  {
   "cell_type": "markdown",
   "metadata": {},
   "source": [
    "### Notes from Wed meeting \n",
    "- Try shuffling frequencies\n",
    "- Test with white noise\n",
    "- Narrow band pass filter could cause issues\n",
    "- Currently we don't know what the classification is picking up on \n",
    "- Need to try other features to identify what the model is picking up on  \n",
    "    - PAC\n",
    "    - Known/established differences in amplitude and phase\n",
    "\n",
    "### Other problems \n",
    "- Baseline/rest and 12 Hz are very far apart in time\n",
    "    - Time could be conflated with stimulation\n",
    "    - Need to do pilots with random order  \n",
    "- Don't know what feature of time frequency signal is different, only that they're different\n",
    "- Overfitting \n",
    "\n",
    "\n",
    "\n"
   ]
  },
  {
   "cell_type": "markdown",
   "metadata": {},
   "source": [
    "### Notes from Tuesday morning \n",
    "\n",
    "- Compare subjects based on effect sizes\n",
    "- Other features: pac amplitude coupling, other connectivity\n",
    "- Try the new pilot data \n",
    "    - compare each stimulus with subsequent ITI\n",
    "- Need to establish wash out effect after each stimulus \n",
    "\n",
    "\n",
    "- Summarize graph \n",
    "- Break into frequency bands - average into frequency bands\n",
    "- "
   ]
  },
  {
   "cell_type": "code",
   "execution_count": null,
   "metadata": {},
   "outputs": [],
   "source": [
    "\n",
    "\n",
    "from sklearn.preprocessing import StandardScaler\n",
    "from sklearn.decomposition import PCA\n",
    "\n",
    "\n",
    "# parameters for TFR calculation\n",
    "freqs = np.arange(2, 55)\n",
    "cycles = np.linspace(1, 30, len(freqs))\n",
    "roi = ['E28', 'E20', 'E12', 'E5', 'E118', 'E117', 'E29', 'E13', 'E6', 'E112', 'E111', 'E36', 'E30', 'E7', 'E106', 'E105', 'E104', 'E31', 'E80', 'E55', 'E37', 'E87', 'E41', 'E103']\n",
    "\n",
    "\n",
    "\n",
    "\n",
    "\n",
    "# calculate TFR --> average across time\n",
    "tfr = calc_bb_tfr(\n",
    "    epoch = epoch, \n",
    "    freqs = freqs, \n",
    "    cycles = cycles, \n",
    "    dimensions_2_average = 3\n",
    ")\n",
    "\n",
    "# select channels and stimuli to keep\n",
    "labels = epoch.events[:, 2]\n",
    "\n",
    "\n",
    "\n",
    "print(tfr.shape)\n",
    "print(labels.shape)\n"
   ]
  },
  {
   "cell_type": "code",
   "execution_count": null,
   "metadata": {},
   "outputs": [],
   "source": [
    "from sklearn.decomposition import PCA\n",
    "\n",
    "# reshape\n",
    "tfr_sel = np.mean(tfr, axis = 1)\n",
    "tfr_reshaped = tfr_sel.reshape(tfr_sel.shape[0], -1)\n",
    "\n",
    "\n",
    "# standardize\n",
    "tfr_standardized = StandardScaler().fit_transform(tfr_reshaped)\n",
    "\n",
    "\n",
    "# pca\n",
    "pca = PCA(n_components = 5)\n",
    "principleComponents = pca.fit_transform(tfr_standardized)\n",
    "\n",
    "\n",
    "# check % variance \n",
    "print(np.shape(principleComponents))\n",
    "print(pca.explained_variance_ratio_)\n",
    "\n",
    "\n",
    "\n",
    "# plot\n",
    "fig, ax = plt.subplots()\n",
    "\n",
    "plt.xlabel(\"PC1\") \n",
    "plt.ylabel(\"PC2\")\n",
    "\n",
    "scatter = plt.scatter(principleComponents[:,0], \n",
    "            principleComponents[:,1], \n",
    "            c = labels, \n",
    "            cmap = 'turbo')\n",
    "legend = ax.legend(*scatter.legend_elements(), \n",
    "                   loc = \"upper right\")\n",
    "\n",
    "plt.title('averaged across channels + all frequencies')"
   ]
  },
  {
   "cell_type": "code",
   "execution_count": null,
   "metadata": {},
   "outputs": [],
   "source": []
  },
  {
   "cell_type": "code",
   "execution_count": null,
   "metadata": {},
   "outputs": [],
   "source": []
  }
 ],
 "metadata": {
  "kernelspec": {
   "display_name": "mne",
   "language": "python",
   "name": "python3"
  },
  "language_info": {
   "codemirror_mode": {
    "name": "ipython",
    "version": 3
   },
   "file_extension": ".py",
   "mimetype": "text/x-python",
   "name": "python",
   "nbconvert_exporter": "python",
   "pygments_lexer": "ipython3",
   "version": "3.11.8"
  },
  "orig_nbformat": 4
 },
 "nbformat": 4,
 "nbformat_minor": 2
}
